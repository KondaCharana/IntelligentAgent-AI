{
  "nbformat": 4,
  "nbformat_minor": 0,
  "metadata": {
    "colab": {
      "provenance": []
    },
    "kernelspec": {
      "name": "python3",
      "display_name": "Python 3"
    },
    "language_info": {
      "name": "python"
    }
  },
  "cells": [
    {
      "cell_type": "code",
      "execution_count": 6,
      "metadata": {
        "id": "DAWXT8yqjbir"
      },
      "outputs": [],
      "source": [
        "class SimpleAgent:\n",
        "    def __init__(self):\n",
        "        self.position = (0, 0)  # Initial position of the agent\n",
        "        self.grid_size = (5, 5)  # Size of the grid environment\n",
        "\n",
        "    def move(self, action):\n",
        "        # Define actions: 0 - up, 1 - down, 2 - left, 3 - right\n",
        "        if action == 0:  # Move up\n",
        "            self.position = (max(0, self.position[0] - 1), self.position[1])\n",
        "        elif action == 1:  # Move down\n",
        "            self.position = (min(self.grid_size[0] - 1, self.position[0] + 1), self.position[1])\n",
        "        elif action == 2:  # Move left\n",
        "            self.position = (self.position[0], max(0, self.position[1] - 1))\n",
        "        elif action == 3:  # Move right\n",
        "            self.position = (self.position[0], min(self.grid_size[1] - 1, self.position[1] + 1))\n",
        "\n",
        "    def print_position(self):\n",
        "        print(\"Current position:\", self.position)\n",
        "\n",
        "# Instantiate the agent\n",
        "agent = SimpleAgent()\n",
        "\n",
        "# Perform some actions\n",
        "#agent.move(3)  # Move right\n",
        "agent.move(1)  # Move down\n",
        "agent.move(1)\n",
        "agent.move(1)\n",
        "agent.move(1)\n",
        "agent.move(1)\n",
        "#agent.move(2)  # Move left\n",
        "\n",
        "\n"
      ]
    },
    {
      "cell_type": "code",
      "source": [
        "# Print current position\n",
        "agent.print_position()"
      ],
      "metadata": {
        "colab": {
          "base_uri": "https://localhost:8080/"
        },
        "id": "kkbDYQG0j0o7",
        "outputId": "ba5d7187-001f-498b-d93f-c6680c06d0a6"
      },
      "execution_count": 7,
      "outputs": [
        {
          "output_type": "stream",
          "name": "stdout",
          "text": [
            "Current position: (4, 0)\n"
          ]
        }
      ]
    }
  ]
}